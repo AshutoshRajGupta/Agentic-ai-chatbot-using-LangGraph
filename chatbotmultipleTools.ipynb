{
 "cells": [
  {
   "cell_type": "code",
   "execution_count": 1,
   "metadata": {},
   "outputs": [],
   "source": [
    "from langchain_community.tools import ArxivQueryRun,WikipediaQueryRun\n",
    "from langchain_community.utilities import WikipediaAPIWrapper, ArxivAPIWrapper"
   ]
  },
  {
   "cell_type": "code",
   "execution_count": 2,
   "metadata": {},
   "outputs": [
    {
     "name": "stdout",
     "output_type": "stream",
     "text": [
      "arxiv\n"
     ]
    }
   ],
   "source": [
    "# 1. toll arxiv\n",
    "api_wrapper_arxiv=ArxivAPIWrapper(top_k_results=2,doc_content_chars_max=500)\n",
    "arxiv=ArxivQueryRun(api_wrapper=api_wrapper_arxiv, description=\"Query arxiv papers\")\n",
    "print(arxiv.name)"
   ]
  },
  {
   "cell_type": "code",
   "execution_count": 3,
   "metadata": {},
   "outputs": [
    {
     "data": {
      "text/plain": [
       "\"Published: 2024-07-22\\nTitle: Attention Is All You Need But You Don't Need All Of It For Inference of Large Language Models\\nAuthors: Georgy Tyukin, Gbetondji J-S Dovonon, Jean Kaddour, Pasquale Minervini\\nSummary: The inference demand for LLMs has skyrocketed in recent months, and serving\\nmodels with low latencies remains challenging due to the quadratic input length\\ncomplexity of the attention layers. In this work, we investigate the effect of\\ndropping MLP and attention layers at inference time o\""
      ]
     },
     "execution_count": 3,
     "metadata": {},
     "output_type": "execute_result"
    }
   ],
   "source": [
    "arxiv.invoke(\"Attention is all you need\")"
   ]
  },
  {
   "cell_type": "code",
   "execution_count": 4,
   "metadata": {},
   "outputs": [
    {
     "data": {
      "text/plain": [
       "'wikipedia'"
      ]
     },
     "execution_count": 4,
     "metadata": {},
     "output_type": "execute_result"
    }
   ],
   "source": [
    "# 2. tool wikipedia \n",
    "api_wrapper_wiki=WikipediaAPIWrapper(top_k_results=1,doc_content_chars_max=500)\n",
    "wiki=WikipediaQueryRun(api_wrapper=api_wrapper_wiki)\n",
    "wiki.name"
   ]
  },
  {
   "cell_type": "code",
   "execution_count": 5,
   "metadata": {},
   "outputs": [],
   "source": [
    "from dotenv import load_dotenv\n",
    "load_dotenv()\n",
    "\n",
    "import os\n",
    "os.environ['TAVILY_API_KEY']=os.getenv('TAVILY_API_KEY')\n",
    "os.environ['GROQ_API_KEY']=os.getenv('GROQ_API_KEY')\n"
   ]
  },
  {
   "cell_type": "code",
   "execution_count": 6,
   "metadata": {},
   "outputs": [],
   "source": [
    "### tavily search tool\n",
    "from langchain_community.tools.tavily_search import TavilySearchResults\n",
    "tavily= TavilySearchResults()"
   ]
  },
  {
   "cell_type": "code",
   "execution_count": 7,
   "metadata": {},
   "outputs": [
    {
     "data": {
      "text/plain": [
       "[{'title': 'Artificial Intelligence News - ScienceDaily',\n",
       "  'url': 'https://www.sciencedaily.com/news/computers_math/artificial_intelligence/',\n",
       "  'content': 'Artificial Intelligence News\\n\\nTop Headlines\\n\\nLatest Headlines\\n\\nEarlier Headlines\\n\\nThursday, May 8, 2025\\n\\nWednesday, May 7, 2025\\n\\nTuesday, May 6, 2025\\n\\nMonday, May 5, 2025\\n\\nThursday, May 1, 2025\\n\\nFriday, April 25, 2025\\n\\nThursday, April 24, 2025\\n\\nWednesday, April 23, 2025\\n\\nTuesday, April 22, 2025\\n\\nTuesday, April 15, 2025\\n\\nMonday, April 14, 2025\\n\\nWednesday, April 9, 2025\\n\\nTuesday, April 8, 2025\\n\\nThursday, April 3, 2025\\n\\nThursday, March 27, 2025\\n\\nWednesday, March 26, 2025\\n\\nTuesday, March 25, 2025 [...] Thursday, January 16, 2025\\n\\nWednesday, January 15, 2025\\n\\nTuesday, January 14, 2025\\n\\nThursday, January 9, 2025\\n\\nWednesday, January 8, 2025\\n\\nMonday, January 6, 2025\\n\\nThursday, January 2, 2025\\n\\nFriday, December 27, 2024\\n\\nThursday, December 26, 2024\\n\\nThursday, December 19, 2024\\n\\nWednesday, December 18, 2024\\n\\nTuesday, December 17, 2024\\n\\nMonday, December 16, 2024\\n\\nTuesday, December 10, 2024\\n\\nMonday, December 9, 2024\\n\\nFriday, December 6, 2024\\n\\nWednesday, December 4, 2024\\n\\nMonday, December 2, 2024 [...] Wednesday, March 19, 2025\\n\\nTuesday, March 18, 2025\\n\\nMonday, March 17, 2025\\n\\nThursday, March 6, 2025\\n\\nWednesday, March 5, 2025\\n\\nTuesday, March 4, 2025\\n\\nWednesday, February 26, 2025\\n\\nTuesday, February 25, 2025\\n\\nFriday, February 21, 2025\\n\\nThursday, February 20, 2025\\n\\nWednesday, February 19, 2025\\n\\nThursday, February 13, 2025\\n\\nMonday, February 10, 2025\\n\\nMonday, February 3, 2025\\n\\nWednesday, January 29, 2025\\n\\nTuesday, January 28, 2025\\n\\nMonday, January 27, 2025\\n\\nTuesday, January 21, 2025',\n",
       "  'score': 0.6609831},\n",
       " {'title': 'AI News | Latest AI News, Analysis & Events',\n",
       "  'url': 'https://www.artificialintelligence-news.com/',\n",
       "  'content': 'AI News reports on the latest artificial intelligence news and insights. Explore industry trends from the frontline of AI.',\n",
       "  'score': 0.6260562},\n",
       " {'title': 'Artificial intelligence - NBC News',\n",
       "  'url': 'https://www.nbcnews.com/artificial-intelligence',\n",
       "  'content': \"Man files complaint after ChatGPT falsely claimed he murdered his children\\n\\nNBC News NOW\\n\\n02:54\\n\\nA.I. chatbots becoming popular but worry privacy advocates\\n\\nNightly News\\n\\n03:15\\n\\nChristie's begins AI art auction amid backlash\\n\\nNBC News NOW\\n\\n02:16\\n\\nVance says U.S. will be the ‘gold standard’ of AI technology\\n\\n03:36\\n\\nAI startup DeepSeek causes buzz in China but draws global scrutiny over censorship and security\\n\\nNBC News NOW\\n\\nMORE AI NEWS [...] Nvidia CEO hails Trump's plan to rescind some export curbs on AI chips to China\\n\\nArtificial intelligence\\n\\nGoogle I/O 2025: Gemini AI, Android XR glasses, Google Beam, Project Astra, Chrome and deep search news\\n\\nArtificial intelligence\\n\\nAI poses a bigger threat to women's work than men's, report says\\n\\nArtificial intelligence\\n\\nAI and education: We want to hear your story\\n\\nTECH NEWS\\n\\nPolitics News\\n\\nTexas moves forward with expansive social media ban for minors, reigniting debate\\n\\nTrump tariffs [...] Profile\\n\\nSections\\n\\nLocal\\n\\ntv\\n\\nFeatured\\n\\nMore From NBC\\n\\nFollow NBC News\\n\\nnews Alerts\\n\\nThere are no new alerts at this time\\n\\nARTIFICIAL INTELLIGENCE\\n\\nThe latest news and top stories on artificial intelligence, including ChatGPT, AI Chatbot and Bard.\\n\\nAnthropic adds Claude 4 security measures to limit risk of users developing weapons\\n\\nChicago Sun-Times admits summer book guide included fake AI-generated titles\\n\\nAI NEWS\\n\\nArtificial intelligence\",\n",
       "  'score': 0.6158511},\n",
       " {'title': 'Artificial Intelligence - Latest AI News and Analysis - WSJ.com',\n",
       "  'url': 'https://www.wsj.com/tech/ai',\n",
       "  'content': 'The latest artificial intelligence news coverage focusing on the technology, tools and the companies building AI technology.',\n",
       "  'score': 0.6097339},\n",
       " {'title': 'Artificial intelligence | Massachusetts Institute of Technology',\n",
       "  'url': 'https://news.mit.edu/topic/artificial-intelligence2',\n",
       "  'content': 'Novel AI model inspired by neural dynamics from the brain\\n\\nNew type of “state-space model” leverages principles of harmonic oscillators.\\n\\nMay 2, 2025\\n\\nRead full story →\\n\\nMaking AI models more trustworthy for high-stakes settings\\n\\nA new method helps convey uncertainty more precisely, which could give researchers and medical clinicians better information to make decisions.\\n\\nMay 1, 2025\\n\\nRead full story →\\n\\nThe MIT-Portugal Program enters Phase 4 [...] New phase will support continued exploration of ideas and solutions in fields ranging from AI to nanotech to climate — with emphasis on educational exchanges and entrepreneurship.\\n\\nApril 30, 2025\\n\\nRead full story →\\n\\nMerging design and computer science in creative ways\\n\\nMAD Fellow Alexander Htet Kyaw connects humans, machines, and the physical world using AI and augmented reality.\\n\\nApril 28, 2025\\n\\nRead full story →\\n\\nNovel method detects microbial contamination in cell cultures [...] With AI, researchers predict the location of virtually any protein within a human cell\\n\\nTrained with a joint understanding of protein and cell behavior, the model could help with diagnosing disease and developing new drugs.\\n\\nMay 15, 2025\\n\\nRead full story →\\n\\nStudy shows vision-language models can’t handle queries with negation words\\n\\nWords like “no” and “not” can cause this popular class of AI models to fail unexpectedly in high-stakes settings, such as medical diagnosis.\\n\\nMay 14, 2025',\n",
       "  'score': 0.528753}]"
      ]
     },
     "execution_count": 7,
     "metadata": {},
     "output_type": "execute_result"
    }
   ],
   "source": [
    "tavily.invoke(\"provide me the recent AI news?\")"
   ]
  },
  {
   "cell_type": "code",
   "execution_count": 8,
   "metadata": {},
   "outputs": [],
   "source": [
    "## combine all these tools in the list\n",
    "tools=[arxiv, wiki, tavily]"
   ]
  },
  {
   "cell_type": "code",
   "execution_count": 10,
   "metadata": {},
   "outputs": [],
   "source": [
    "# Initialize the LLM Model\n",
    "from langchain_groq import ChatGroq\n",
    "llm=ChatGroq(model='qwen-qwq-32b')"
   ]
  },
  {
   "cell_type": "code",
   "execution_count": 11,
   "metadata": {},
   "outputs": [
    {
     "data": {
      "text/plain": [
       "AIMessage(content='\\n<think>\\nOkay, the user is asking, \"What is AI?\" Let me start by breaking down the term. AI stands for Artificial Intelligence. I should explain that it\\'s a field of computer science. But maybe I should also mention the broader definition. Some people think of AI as any machine that can perform tasks requiring human-like intelligence.\\n\\nHmm, should I differentiate between general AI and narrow AI? Probably important to note that most AI today is narrow, like voice assistants or recommendation systems. General AI, which is more human-like, is still theoretical.\\n\\nI need to cover the key areas of AI. Machine learning comes to mind, especially since it\\'s a subset of AI. Deep learning is a part of machine learning using neural networks. I should give examples of each to make it clearer.\\n\\nApplications are essential too. Things like healthcare, finance, transportation. Maybe mention some popular examples like self-driving cars or chatbots. Also, touch on current limitations because it\\'s important to set realistic expectations. AI isn\\'t sentient yet, but there are ethical considerations like bias and privacy.\\n\\nEthical implications might be another point. Issues like data privacy, algorithmic bias, job displacement. Maybe suggest that AI is a tool that requires careful use.\\n\\nI should structure the answer logically: start with a definition, then key areas, applications, limitations, ethics, and future. Keep it conversational but informative. Avoid jargon where possible, but since it\\'s a \"what is\" question, some technical terms are necessary, like machine learning and neural networks.\\n\\nWait, the user might be a beginner, so I should explain terms like algorithms and data-driven approaches simply. Maybe use analogies where helpful. Also, clarify that AI systems can learn from data but aren\\'t conscious. Need to make sure not to overpromise on AI\\'s capabilities.\\n\\nLet me check if there\\'s anything else. Oh, the historical context? Maybe a brief mention of the origins in the 1950s, but maybe that\\'s too detailed. The user probably wants a concise overview. Focus on the essentials first.\\n\\nPutting it all together: start with the definition, key areas (machine learning, etc.), applications, current state, challenges, and ethical considerations. End with a summary that ties it all together. Make sure to keep paragraphs short for readability. Use bullet points or sections if possible, but since the user wants the thinking process, the answer should be in natural paragraphs. Alright, that should cover the main points without going too deep into any one area unless necessary.\\n</think>\\n\\n**Artificial Intelligence (AI)** refers to the **science and engineering of making machines capable of performing tasks that typically require human intelligence**. These tasks include learning, problem-solving, decision-making, perception (e.g., recognizing speech or images), and language understanding. At its core, AI involves creating systems that can mimic or augment human cognitive abilities, often using data, algorithms, and computational power.\\n\\n---\\n\\n### **Key Concepts in AI**\\n1. **Machine Learning (ML):**  \\n   A subset of AI where systems learn patterns from data to make predictions or decisions *without explicit programming*. For example:\\n   - **Supervised Learning:** Training models with labeled data (e.g., \"This is a cat\" or \"This email is spam\").\\n   - **Unsupervised Learning:** Finding hidden patterns in unlabeled data (e.g., clustering customer segments).\\n   - **Reinforcement Learning:** Learning through trial-and-error feedback (e.g., game-playing AI).\\n\\n2. **Deep Learning:**  \\n   A type of ML inspired by the structure of the human brain, using **neural networks** with many layers (hence \"deep\"). It powers advancements in image recognition, natural language processing (NLP), and autonomous systems.\\n\\n3. **Natural Language Processing (NLP):**  \\n   Enabling machines to understand, interpret, and generate human language. Examples include chatbots, translation tools, and voice assistants (e.g., Siri, Alexa).\\n\\n4. **Computer Vision:**  \\n   Teaching machines to \"see\" and analyze visual data, such as identifying objects in photos, facial recognition, or self-driving car systems.\\n\\n---\\n\\n### **Types of AI**\\n- **Narrow (Weak) AI:**  \\n  Systems designed for specific tasks. This includes *most current AI*, like recommendation algorithms (Netflix), spam filters, or AI-powered image editors (e.g., Midjourney).\\n\\n- **General (Strong) AI:**  \\n  Hypothetical systems with human-like intelligence capable of *any intellectual task* (e.g., creativity, abstract thinking, and problem-solving across domains). This remains theoretical and is not yet achievable.\\n\\n---\\n\\n### **Applications of AI**\\n- **Healthcare:** Disease diagnosis, drug discovery, and personalized treatment plans.\\n- **Finance:** Fraud detection, algorithmic trading, and risk assessment.\\n- **Transportation:** Self-driving cars and traffic optimization systems.\\n- **Entertainment:** Content recommendations (Spotify, YouTube) and AI-generated art/music.\\n- **Customer Service:** Chatbots for 24/7 support and personalized interactions.\\n\\n---\\n\\n### **How AI Works**\\n1. **Data Ingestion:** AI systems learn from large datasets (e.g., images, text, or sensor data).\\n2. **Training:** Algorithms identify patterns in the data to create a model.\\n3. **Prediction/Action:** The trained model is used to make decisions or predictions on new data (e.g., \"Is this a tumor?\" or \"What should I recommend next?\").\\n\\n---\\n\\n### **Limitations and Challenges**\\n- **Dependency on Data:** AI systems require vast, high-quality training data. Biased or incomplete data can lead to flawed outcomes.\\n- **Lack of Contextual Understanding:** While AI can recognize patterns, it lacks true \"understanding\" or consciousness. For example, an image classifier might label a cat as a dog if trained on ambiguous data.\\n- **Ethical Concerns:** Issues like privacy risks, algorithmic bias, job displacement, and misuse in surveillance or autonomous weapons.\\n- **Transparency:** Many AI systems act as \"black boxes,\" making it hard to explain their decisions (e.g., why a loan was denied).\\n\\n---\\n\\n### **Future of AI**\\n- **Advancements:** Potential breakthroughs in AGI (Artificial General Intelligence) and more ethical, explainable AI systems.\\n- **Societal Impact:** Ongoing debates about regulation, job automation, and the societal role of AI.\\n- **Interdisciplinary Collaboration:** Progress will depend on input from computer scientists, ethicists, policymakers, and end-users.\\n\\n---\\n\\n### **Conclusion**\\nAI is a transformative technology that enables machines to perform intelligent tasks, but it is still far from human-like consciousness. While it has immense potential to improve lives, its development must be guided by ethical principles, transparency, and accountability to address risks and ensure equitable benefits for all.', additional_kwargs={}, response_metadata={'token_usage': {'completion_tokens': 1397, 'prompt_tokens': 13, 'total_tokens': 1410, 'completion_time': 3.189199292, 'prompt_time': 0.002690963, 'queue_time': 0.265285327, 'total_time': 3.191890255}, 'model_name': 'qwen-qwq-32b', 'system_fingerprint': 'fp_a91d9c2cfb', 'finish_reason': 'stop', 'logprobs': None}, id='run--25fb397a-a944-44b2-a6f1-0e4ff5289cdb-0', usage_metadata={'input_tokens': 13, 'output_tokens': 1397, 'total_tokens': 1410})"
      ]
     },
     "execution_count": 11,
     "metadata": {},
     "output_type": "execute_result"
    }
   ],
   "source": [
    "llm.invoke(\"What is AI\")"
   ]
  },
  {
   "cell_type": "code",
   "execution_count": 12,
   "metadata": {},
   "outputs": [],
   "source": [
    "llm_with_tools=llm.bind_tools(tools=tools)"
   ]
  },
  {
   "cell_type": "code",
   "execution_count": 13,
   "metadata": {},
   "outputs": [
    {
     "data": {
      "text/plain": [
       "AIMessage(content='', additional_kwargs={'tool_calls': [{'id': 'call_8d74', 'function': {'arguments': '{\"query\":\"recent news on AI\"}', 'name': 'tavily_search_results_json'}, 'type': 'function'}]}, response_metadata={'token_usage': {'completion_tokens': 219, 'prompt_tokens': 354, 'total_tokens': 573, 'completion_time': 0.505888843, 'prompt_time': 0.030768348, 'queue_time': 0.266030812, 'total_time': 0.536657191}, 'model_name': 'qwen-qwq-32b', 'system_fingerprint': 'fp_28178d7ff6', 'finish_reason': 'tool_calls', 'logprobs': None}, id='run--94327692-8781-4753-82c3-69dcc24f7e31-0', tool_calls=[{'name': 'tavily_search_results_json', 'args': {'query': 'recent news on AI'}, 'id': 'call_8d74', 'type': 'tool_call'}], usage_metadata={'input_tokens': 354, 'output_tokens': 219, 'total_tokens': 573})"
      ]
     },
     "execution_count": 13,
     "metadata": {},
     "output_type": "execute_result"
    }
   ],
   "source": [
    "llm_with_tools.invoke(\"What is recent news on AI\")"
   ]
  },
  {
   "cell_type": "markdown",
   "metadata": {},
   "source": [
    " WORKFLOW"
   ]
  },
  {
   "cell_type": "code",
   "execution_count": 14,
   "metadata": {},
   "outputs": [],
   "source": [
    "## state schema\n",
    "from typing_extensions import TypedDict\n",
    "from langchain_core.messages import AnyMessage   ## human message or AI message\n",
    "from typing import Annotated     ## labeling\n",
    "from langgraph.graph.message import add_messages   ## reducers in langgraph"
   ]
  },
  {
   "cell_type": "code",
   "execution_count": 15,
   "metadata": {},
   "outputs": [],
   "source": [
    "class State(TypedDict):\n",
    "    messages: Annotated[list[AnyMessage],add_messages]\n"
   ]
  },
  {
   "cell_type": "code",
   "execution_count": 16,
   "metadata": {},
   "outputs": [],
   "source": [
    "#3 now we will be creating two nodes the Ai Assistand node and tools node and the we will creating edges to connect start with AI assistant node"
   ]
  },
  {
   "cell_type": "code",
   "execution_count": 17,
   "metadata": {},
   "outputs": [],
   "source": [
    "# Entire chatbot with langGraph\n",
    "from IPython.display import Image, display\n",
    "from langgraph.graph import StateGraph, START, END\n",
    "from langgraph.prebuilt import ToolNode\n",
    "from langgraph.prebuilt import tools_condition"
   ]
  },
  {
   "cell_type": "code",
   "execution_count": 23,
   "metadata": {},
   "outputs": [
    {
     "data": {
      "image/png": "[encoded data removed]",
      "text/plain": [
       "<IPython.core.display.Image object>"
      ]
     },
     "metadata": {},
     "output_type": "display_data"
    }
   ],
   "source": [
    "## Node definition\n",
    "def tool_calling_llm(state:State):\n",
    "    return {\"messages\":[llm_with_tools.invoke(state[\"messages\"])]}\n",
    "\n",
    "# Build Graph\n",
    "builder= StateGraph(State)\n",
    "builder.add_node(\"tool_calling_llm\", tool_calling_llm)\n",
    "builder.add_node(\"tools\", ToolNode(tools))\n",
    "\n",
    "## Edges\n",
    "builder.add_edge(START, \"tool_calling_llm\")\n",
    "builder.add_conditional_edges(\n",
    "    \"tool_calling_llm\",\n",
    "    # if latest message from assistant is a tool call ->  tools_condition routes to tools\n",
    "    # if latest message from assistant is anot a tool call -> tools_condition routes to END\n",
    "    tools_condition,\n",
    ")\n",
    "builder.add_edge(\"tools\",\"tool_calling_llm\")\n",
    "builder.add_edge(\"tools\", END)\n",
    "\n",
    "graph=builder.compile()\n",
    "\n",
    "# view\n",
    "display(Image(graph.get_graph().draw_mermaid_png()))"
   ]
  },
  {
   "cell_type": "code",
   "execution_count": 24,
   "metadata": {},
   "outputs": [
    {
     "name": "stdout",
     "output_type": "stream",
     "text": [
      "================================\u001b[1m Human Message \u001b[0m=================================\n",
      "\n",
      "1706.03762\n",
      "==================================\u001b[1m Ai Message \u001b[0m==================================\n",
      "Tool Calls:\n",
      "  arxiv (call_7a80)\n",
      " Call ID: call_7a80\n",
      "  Args:\n",
      "    query: 1706.03762\n",
      "=================================\u001b[1m Tool Message \u001b[0m=================================\n",
      "Name: arxiv\n",
      "\n",
      "Published: 2023-08-02\n",
      "Title: Attention Is All You Need\n",
      "Authors: Ashish Vaswani, Noam Shazeer, Niki Parmar, Jakob Uszkoreit, Llion Jones, Aidan N. Gomez, Lukasz Kaiser, Illia Polosukhin\n",
      "Summary: The dominant sequence transduction models are based on complex recurrent or\n",
      "convolutional neural networks in an encoder-decoder configuration. The best\n",
      "performing models also connect the encoder and decoder through an attention\n",
      "mechanism. We propose a new simple network architecture, the Transformer, base\n",
      "==================================\u001b[1m Ai Message \u001b[0m==================================\n",
      "\n",
      "The paper **\"Attention Is All You Need\"** (arXiv ID: 1706.03762), published in 2023, introduced the **Transformer architecture**, which revolutionized sequence transduction tasks like machine translation. Here's a concise overview:\n",
      "\n",
      "### Key Contributions:\n",
      "1. **Abandonment of Recurrence**: The Transformer replaces traditional recurrent neural networks (RNNs) and convolutions with pure **self-attention mechanisms**.\n",
      "2. **Scaled Dot-Product Attention**: Introduces efficient attention计算方法, enabling the model to weigh the importance of different input parts dynamically.\n",
      "3. **Positional Encoding**: Uses fixed positional embeddings to preserve sequence order, since the architecture lacks inherent recurrence or convolution layers.\n",
      "4. **Multi-Head Attention**: Allows the model to jointly attend to information from different representation subspaces.\n",
      "\n",
      "### Impact:\n",
      "- Became the foundation for modern language models like **BERT**, **GPT**, and **T5**.\n",
      "- Accelerated progress in NLP tasks (translation, text summarization, etc.) by enabling parallelized training and handling long-range dependencies more effectively than RNNs.\n",
      "\n",
      "### Authors:\n",
      "A team from Google Brain, including notable figures like Ashish Vaswani and Illia Polosukhin.\n",
      "\n",
      "This paper is widely cited as a landmark in deep learning. Would you like deeper insights into specific components (e.g., multi-head attention) or its real-world applications?\n"
     ]
    }
   ],
   "source": [
    "messages=graph.invoke({\"messages\":\"1706.03762\"})\n",
    "for m in messages['messages']:\n",
    "    m.pretty_print()"
   ]
  },
  {
   "cell_type": "code",
   "execution_count": 25,
   "metadata": {},
   "outputs": [
    {
     "name": "stdout",
     "output_type": "stream",
     "text": [
      "================================\u001b[1m Human Message \u001b[0m=================================\n",
      "\n",
      "Hi My name is Ashu\n",
      "==================================\u001b[1m Ai Message \u001b[0m==================================\n",
      "\n",
      "Hello Ashu! Nice to meet you. How can I assist you today?\n"
     ]
    }
   ],
   "source": [
    "messages=graph.invoke({\"messages\":\"Hi My name is Ashu\"})\n",
    "for m in messages['messages']:\n",
    "    m.pretty_print()"
   ]
  },
  {
   "cell_type": "code",
   "execution_count": 26,
   "metadata": {},
   "outputs": [
    {
     "name": "stdout",
     "output_type": "stream",
     "text": [
      "================================\u001b[1m Human Message \u001b[0m=================================\n",
      "\n",
      "Hi My name is Ashu and please tell me the recent research paper on blockchain  \n",
      "==================================\u001b[1m Ai Message \u001b[0m==================================\n",
      "Tool Calls:\n",
      "  arxiv (call_fcw4)\n",
      " Call ID: call_fcw4\n",
      "  Args:\n",
      "    query: blockchain\n",
      "=================================\u001b[1m Tool Message \u001b[0m=================================\n",
      "Name: arxiv\n",
      "\n",
      "Published: 2023-04-19\n",
      "Title: Vulnerability of Finitely-long Blockchains in Securing Data\n",
      "Authors: Yiming Jiang, Jiangfan Zhang\n",
      "Summary: Recently, blockchain has been applied in various fields to secure data\n",
      "exchanges and storage in decentralized systems. In a blockchain application\n",
      "where the task of the application which makes use of the data stored in a\n",
      "blockchain has to be accomplished by a time instant, the employed blockchain is\n",
      "essentially finitely-long. In this paper, we consider a general\n",
      "==================================\u001b[1m Ai Message \u001b[0m==================================\n",
      "\n",
      "Here’s a recent blockchain research paper from arXiv:\n",
      "\n",
      "**Title:** [*Vulnerability of Finitely-long Blockchains in Securing Data*](https://arxiv.org/abs/2304.11111)  \n",
      "**Authors:** Yiming Jiang, Jiangfan Zhang  \n",
      "**Published:** April 2023  \n",
      "**Summary:** This paper examines security challenges in blockchains with a finite length, particularly in systems where data stored on the blockchain must be processed by a specific deadline. The authors analyze how the finite nature of such blockchains introduces vulnerabilities in decentralized applications.\n",
      "\n",
      "Would you like me to summarize specific technical aspects of this paper or look for more recent/pertinent studies?\n"
     ]
    }
   ],
   "source": [
    "messages=graph.invoke({\"messages\":\"Hi My name is Ashu and please tell me the recent research paper on blockchain  \"})\n",
    "for m in messages['messages']:\n",
    "    m.pretty_print()"
   ]
  },
  {
   "cell_type": "code",
   "execution_count": 28,
   "metadata": {},
   "outputs": [
    {
     "name": "stdout",
     "output_type": "stream",
     "text": [
      "================================\u001b[1m Human Message \u001b[0m=================================\n",
      "\n",
      "What is the recent AI news and then please tell me the recent research paper on blockchain  \n",
      "==================================\u001b[1m Ai Message \u001b[0m==================================\n",
      "Tool Calls:\n",
      "  tavily_search_results_json (call_k16x)\n",
      " Call ID: call_k16x\n",
      "  Args:\n",
      "    query: recent AI news\n",
      "  arxiv (call_z65j)\n",
      " Call ID: call_z65j\n",
      "  Args:\n",
      "    query: blockchain recent research\n",
      "=================================\u001b[1m Tool Message \u001b[0m=================================\n",
      "Name: tavily_search_results_json\n",
      "\n",
      "[{\"title\": \"Latest AI Breakthroughs and News: April- May 2025 - Crescendo.ai\", \"url\": \"https://www.crescendo.ai/news/latest-ai-news-and-updates\", \"content\": \"Date: April 30, 2025Summary: Conservative activist Robby Starbuck has filed a $5 million defamation lawsuit against Meta, alleging that its AI chatbot falsely claimed he participated in the January 6 Capitol riot and was affiliated with QAnon. Despite contacting Meta to correct the misinformation, the AI continued to generate the false claims for months. The lawsuit highlights growing concerns over AI-generated misinformation and its impact on individuals' reputations.Source: The Wall Street [...] Date: May 2, 2025Summary: Recent research reveals a significant uptick in the adoption of artificial intelligence across manufacturing sectors. The study indicates that AI technologies are being increasingly utilized to optimize production processes, enhance quality control, and improve supply chain management, signaling a transformative shift in industrial operations.Source: PES Media\\n\\nUK Music Industry Expresses Concern Over AI Training Concessions [...] Date: March 12, 2025Summary: China is accelerating AI development to counter U.S. trade restrictions, rolling out models like Manus and DeepSeek, which rival top U.S. counterparts. The government collaborates with private sectors and universities, reducing dependence on imported technology and establishing a National Computing Power Grid to support AI advancements.Source: VOA News\\n\\nGoogle Co-Founder Larry Page Launches AI Startup Dynatomics\\n\\nDate: March 7, 2025\", \"score\": 0.86052185}]\n",
      "=================================\u001b[1m Tool Message \u001b[0m=================================\n",
      "Name: arxiv\n",
      "\n",
      "Published: 2022-07-15\n",
      "Title: A Consensus Algorithm Based on Risk Assessment Model for Permissioned Blockchain\n",
      "Authors: Xiaohui Zhang, Mingying Xue, Xianghua Miao\n",
      "Summary: Blockchain technology enables stakeholders to conduct trusted data sharing\n",
      "and exchange without a trusted centralized institution. These features make\n",
      "blockchain applications attractive to enhance trustworthiness in very different\n",
      "contexts. Due to unique design concepts and outstanding performance, blockchain\n",
      "has become a popul\n",
      "==================================\u001b[1m Ai Message \u001b[0m==================================\n",
      "\n",
      "Here’s the requested information based on the tool responses:\n",
      "\n",
      "---\n",
      "\n",
      "### **Recent AI News (as of May 2025):**\n",
      "1. **Meta’s AI Defamation Lawsuit (April 2025)**  \n",
      "   - Conservative activist Robby Starbuck sued Meta for $5M, claiming its AI chatbot falsely linked him to the January 6 Capitol riot and QAnon. Despite corrections, the AI perpetuated the misinformation for months.  \n",
      "   - *Source: The Wall Street Journal*  \n",
      "\n",
      "2. **AI in Manufacturing (May 2025)**  \n",
      "   - A study highlights rapid AI adoption in manufacturing, with applications in optimizing production, quality control, and supply chain management. This marks a transformative shift in industrial operations.  \n",
      "   - *Source: PES Media*  \n",
      "\n",
      "3. **China’s AI Acceleration (March 2025)**  \n",
      "   - China is advancing AI development to counter U.S. trade restrictions, launching models like Manus and DeepSeek that rival U.S. leaders. The government is building a National Computing Power Grid to support AI innovation.  \n",
      "   - *Source: VOA News*  \n",
      "\n",
      "4. **Larry Page’s New AI Startup (March 2025)**  \n",
      "   - Google co-founder Larry Page launched *Dynatomics*, an AI startup focused on advanced AI research and development.  \n",
      "\n",
      "---\n",
      "\n",
      "### **Recent Blockchain Research (ArXiv):**  \n",
      "The most relevant paper found is:  \n",
      "- **Title:** *A Consensus Algorithm Based on Risk Assessment Model for Permissioned Blockchain*  \n",
      "- **Authors:** Xiaohui Zhang, Mingying Xue, Xianghua Miao  \n",
      "- **Summary:**  \n",
      "  Proposes a risk-assessment-based consensus algorithm for permissioned blockchains to enhance trust and efficiency in data sharing. It addresses challenges in decentralized systems by integrating risk evaluation into consensus mechanisms.  \n",
      "- **Note:** This paper was published in **July 2022**. For more recent papers (2023–2024), I can refine the search further.  \n",
      "\n",
      "---\n",
      "\n",
      "Let me know if you’d like me to:  \n",
      "1. Expand on any of these points.  \n",
      "2. Find a newer blockchain paper.  \n",
      "3. Summarize additional details from the AI news sources.\n"
     ]
    }
   ],
   "source": [
    "messages=graph.invoke({\"messages\":\"What is the recent AI news and then please tell me the recent research paper on blockchain  \"})\n",
    "for m in messages['messages']:\n",
    "    m.pretty_print()"
   ]
  },
  {
   "cell_type": "code",
   "execution_count": 29,
   "metadata": {},
   "outputs": [
    {
     "name": "stdout",
     "output_type": "stream",
     "text": [
      "================================\u001b[1m Human Message \u001b[0m=================================\n",
      "\n",
      "What is the recent Agentic AI news and then please tell me about machine learning  \n",
      "==================================\u001b[1m Ai Message \u001b[0m==================================\n",
      "Tool Calls:\n",
      "  tavily_search_results_json (call_4j24)\n",
      " Call ID: call_4j24\n",
      "  Args:\n",
      "    query: Recent Agentic AI news 2024\n",
      "  wikipedia (call_ywyw)\n",
      " Call ID: call_ywyw\n",
      "  Args:\n",
      "    query: machine learning\n",
      "=================================\u001b[1m Tool Message \u001b[0m=================================\n",
      "Name: tavily_search_results_json\n",
      "\n",
      "[{\"title\": \"Feature: Operators call up agentic AI - Mobile World Live\", \"url\": \"https://www.mobileworldlive.com/att/feature-operators-call-up-agentic-ai/\", \"content\": \"Feature: Operators call up agentic AI\\n\\nAgentic AI has swept across the telecom and business sectors this year after largely being a curiosity in 2024, a remarkable rate of acceleration which highlights its pivotal role.\\n\\nAndy Markus, SVP, chief data and AI officer at AT&T told Mobile World Live (MWL) agentic AI divides complex elements into smaller, manageable tasks. [...] With vendors such as Accenture, Amdocs, Salesforce and ServiceNow creating their own agents, Markus noted there’s often no need for operators to create their own, but it is essential operators use their own data for specific tasks.\\n\\nBig tech movesRecent examples of agentic AI being in the news include Google Cloud’s launch of a new marketplace and an agent-to-agent (A2A) protocol which allows communication across various telecom and enterprise environments. [...] You'll gain exclusive access to breaking news, expert analysis,\\n                and in-depth features delivered right to your inbox.\\n\\nBy subscribing to our newsletter, you'll gain exclusive\\n                    access to breaking news, expert analysis, and in-depth\\n                    features delivered right to your inbox.\\n\\nTopics\\n\\n5G+\\n\\nRAN Vendors\\n\\nOperators\\n\\nBig Tech\\n\\nDevices\\n\\nAI & Cloud\\n\\nNetwork Tech\\n\\nDigital Industries\\n\\nEvents\\n\\nMWC Shanghai 2025\\n\\nMWC Las Vegas 2024\\n\\nMWC Barcelona 2025\", \"score\": 0.9123193}, {\"title\": \"Microsoft Build 2025: The age of AI agents and building the open ...\", \"url\": \"https://blogs.microsoft.com/blog/2025/05/19/microsoft-build-2025-the-age-of-ai-agents-and-building-the-open-agentic-web/\", \"content\": \"Tags: AI, Azure AI, Azure AI Foundry, Book of News, GitHub, GitHub Copilot, Microsoft 365 Copilot, Microsoft Copilot, Microsoft Purview\\n\\nRelated Blogs\\n\\nApr 28, 2025\\t\\t\\t\\t\\t\\t\\t\\t\\n|\\nJudson Althoff\\n\\nHow agentic AI is driving AI-first business transformation for customers to achieve more\\n\\nNov 19, 2024\\t\\t\\t\\t\\t\\t\\t\\t\\n|\\nFrank X. Shaw\\n\\nIgnite 2024: Why nearly 70% of the Fortune 500 now use Microsoft 365 Copilot\\n\\nNov 12, 2024\\t\\t\\t\\t\\t\\t\\t\\t\\n|\\nAlysa Taylor\\n\\nIDC’s 2024 AI opportunity study: Top five AI trends to watch [...] AI agents are not only changing how developers build, but how individuals, teams and companies get work done. At Build, we’re unveiling new pre-built agents, custom agent building blocks, multi-agent capabilities and new models to help developers and organizations build and deploy agents securely to help increase productivity in meaningful ways.\\n\\nSupporting the open agentic web\", \"score\": 0.8506799}, {\"title\": \"Agentic AI: The New Frontier of Intelligence That Acts | WisdomTree\", \"url\": \"https://www.wisdomtree.com/investments/blog/2025/04/21/agentic-ai-the-new-frontier-of-intelligence-that-acts\", \"content\": \"Market Growth: The global AI agents market was valued at $5.4 billion in 2024 ... AI Voice Ordering,\\\" news release, 9/6/23. 13 Source: John Burn\", \"score\": 0.8342047}, {\"title\": \"Agentic AI – Ongoing coverage of its impact on the enterprise\", \"url\": \"https://www.computerworld.com/article/3843138/agentic-ai-ongoing-coverage-of-its-impact-on-the-enterprise.html\", \"content\": \"“By 2028, 33% of enterprise software applications will include agentic AI, up from less than 1% in 2024, enabling 15% of day-to-day work\", \"score\": 0.82082915}, {\"title\": \"Introducing Gemini 2.0: our new AI model for the agentic era\", \"url\": \"https://blog.google/technology/google-deepmind/google-gemini-ai-update-december-2024/\", \"content\": \"Introducing Gemini 2.0: our new AI model for the agentic era\\n\\nDec 11, 2024\\n\\n[[read-time]] min read\\n\\nBullet points [...] The practical application of AI agents is a research area full of exciting possibilities. We’re exploring this new frontier with a series of prototypes that can help people accomplish tasks and get things done. These include an update to Project Astra, our research prototype exploring future capabilities of a universal AI assistant; the new Project Mariner, which explores the future of human-agent interaction, starting with your browser; and Jules, an AI-powered code agent that can help [...] Over the past year, we have continued to make incredible progress in artificial intelligence. Today, we are releasing the first model in the Gemini 2.0 family of models: an experimental version of Gemini 2.0 Flash. It’s our workhorse model with low latency and enhanced performance at the cutting edge of our technology, at scale.\\n\\nWe are also sharing the frontiers of our agentic research by showcasing prototypes enabled by Gemini 2.0’s native multimodal capabilities.\\n\\nGemini 2.0 Flash\", \"score\": 0.8058924}]\n",
      "=================================\u001b[1m Tool Message \u001b[0m=================================\n",
      "Name: wikipedia\n",
      "\n",
      "Page: Machine learning\n",
      "Summary: Machine learning (ML) is a field of study in artificial intelligence concerned with the development and study of statistical algorithms that can learn from data and generalise to unseen data, and thus perform tasks without explicit instructions. Within a subdiscipline in machine learning, advances in the field of deep learning have allowed neural networks, a class of statistical algorithms, to surpass many previous machine learning approaches in performance.\n",
      "ML fi\n",
      "==================================\u001b[1m Ai Message \u001b[0m==================================\n",
      "\n",
      "**Recent Agentic AI News Highlights (2024-2025):**\n",
      "1. **Industry Adoption & Collaboration**: Telecom giants like AT&T are integrating agentic AI, leveraging third-party agents (e.g., from Google Cloud, Salesforce) while focusing on customizing solutions with proprietary data.  \n",
      "2. **Google’s Advances**: In late 2024, Google unveiled Gemini 2.0, an AI model enabling \"agentic\" capabilities, including Project Astra (universal assistants), Jules (code agent), and a new browser-focused interface (Project Mariner).  \n",
      "3. **Enterprise Growth**: By 2028, Gartner predicts 33% of enterprise software will incorporate agentic AI, automating 15% of routine tasks (up from <1% in 2024).  \n",
      "4. **Microsoft’s Focus**: At Build 2025, Microsoft emphasized tools for developers to build secure, multi-agent systems, calling 2025 the \"age of AI agents.\"  \n",
      "\n",
      "**Machine Learning Explained:**  \n",
      "Machine learning (ML) is a subset of AI focused on algorithms that improve performance on a task through experience (data). Key aspects:  \n",
      "- **Core Idea**: Systems learn patterns from data (e.g., images, text) to make predictions or decisions *without being explicitly programmed*.  \n",
      "- **Deep Learning**: A subset using neural networks, which excel in tasks like image recognition or natural language processing by mimicking human brain structures.  \n",
      "- **Applications**: Used in recommendation systems (e.g., Netflix), fraud detection, healthcare diagnostics, and autonomous vehicles.  \n",
      "\n",
      "**Connection to Agentic AI**:  \n",
      "Agentic AI builds on ML by creating autonomous \"agents\" that perform complex tasks (e.g., optimizing networks, coding) by breaking problems into subtasks. For example, Google’s Jules agent writes and debugs code, while AT&T uses agents for network management. This reflects ML’s evolution from static models to dynamic, decision-making systems.  \n",
      "\n",
      "Let me know if you’d like deeper dives into specific areas!\n"
     ]
    }
   ],
   "source": [
    "messages=graph.invoke({\"messages\":\"What is the recent Agentic AI news and then please tell me about machine learning  \"})\n",
    "for m in messages['messages']:\n",
    "    m.pretty_print()"
   ]
  }
 ],
 "metadata": {
  "kernelspec": {
   "display_name": "Python 3 (ipykernel)",
   "language": "python",
   "name": "python3"
  },
  "language_info": {
   "codemirror_mode": {
    "name": "ipython",
    "version": 3
   },
   "file_extension": ".py",
   "mimetype": "text/x-python",
   "name": "python",
   "nbconvert_exporter": "python",
   "pygments_lexer": "ipython3",
   "version": "3.10.4"
  }
 },
 "nbformat": 4,
 "nbformat_minor": 2
}
